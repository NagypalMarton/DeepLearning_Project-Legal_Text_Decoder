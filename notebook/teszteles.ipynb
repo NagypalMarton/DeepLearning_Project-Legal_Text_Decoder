{
 "cells": [
  {
   "cell_type": "markdown",
   "id": "36350399",
   "metadata": {},
   "source": [
    "# Tesztelés Jupyter Notebookban\n",
    "\n",
    "Ez a notebook a konténeren belül a `/app/notebook` mappában található.\n",
    "\n",
    "Az adatokat a `/app/data`, az eredményeket a `/app/output` mappában éred el."
   ]
  },
  {
   "cell_type": "code",
   "execution_count": null,
   "id": "ab6aef65",
   "metadata": {},
   "outputs": [],
   "source": [
    "# Példa: data mappa fájljainak listázása\n",
    "import os\n",
    "data_files = os.listdir('/app/data')\n",
    "print(data_files)"
   ]
  },
  {
   "cell_type": "code",
   "execution_count": null,
   "id": "f6d4d410",
   "metadata": {},
   "outputs": [],
   "source": [
    "# Példa: output mappába írás\n",
    "with open('/app/output/teszt_output.txt', 'w') as f:\n",
    "    f.write('Teszt sikeres!')"
   ]
  }
 ],
 "metadata": {
  "language_info": {
   "name": "python"
  }
 },
 "nbformat": 4,
 "nbformat_minor": 5
}
